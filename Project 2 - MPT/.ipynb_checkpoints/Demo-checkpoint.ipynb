{
 "cells": [
  {
   "cell_type": "code",
   "execution_count": 1,
   "metadata": {},
   "outputs": [],
   "source": [
    "from mpt import MerklePatriciaTrie"
   ]
  },
  {
   "cell_type": "code",
   "execution_count": 2,
   "metadata": {},
   "outputs": [],
   "source": [
    "import rlp"
   ]
  },
  {
   "cell_type": "markdown",
   "metadata": {},
   "source": [
    "La implementación de MPT recibe como parametro un storage que puede ser un diccionario. \n",
    "\n",
    "Partimos creando un arbol vacío: "
   ]
  },
  {
   "cell_type": "code",
   "execution_count": 3,
   "metadata": {},
   "outputs": [],
   "source": [
    "db = {}"
   ]
  },
  {
   "cell_type": "code",
   "execution_count": 4,
   "metadata": {},
   "outputs": [],
   "source": [
    "trie = MerklePatriciaTrie(db)"
   ]
  },
  {
   "cell_type": "code",
   "execution_count": 5,
   "metadata": {},
   "outputs": [],
   "source": [
    "old_root = trie.root()\n",
    "old_root_hash = trie.root_hash()"
   ]
  },
  {
   "cell_type": "code",
   "execution_count": 6,
   "metadata": {},
   "outputs": [
    {
     "name": "stdout",
     "output_type": "stream",
     "text": [
      "None\n"
     ]
    }
   ],
   "source": [
    "print(old_root)"
   ]
  },
  {
   "cell_type": "markdown",
   "metadata": {},
   "source": [
    "# Inserción de elementos"
   ]
  },
  {
   "cell_type": "markdown",
   "metadata": {},
   "source": [
    "Agregamos un primer par (key, value) al arbol. El resultado esperado es que el Patricia Trie tenga solo un nodo (el nodo raiz) y que este sea un nodo tipo hoja como se ve en la siguiente imagen: "
   ]
  },
  {
   "cell_type": "code",
   "execution_count": 7,
   "metadata": {},
   "outputs": [],
   "source": [
    "trie.update(b'do',b'verb')"
   ]
  },
  {
   "cell_type": "code",
   "execution_count": 8,
   "metadata": {},
   "outputs": [],
   "source": [
    "root = trie.root()\n",
    "root_hash = trie.root_hash()"
   ]
  },
  {
   "cell_type": "code",
   "execution_count": 9,
   "metadata": {},
   "outputs": [
    {
     "data": {
      "text/plain": [
       "node.Node.Leaf"
      ]
     },
     "execution_count": 9,
     "metadata": {},
     "output_type": "execute_result"
    }
   ],
   "source": [
    "type(trie._get_node(root))"
   ]
  },
  {
   "cell_type": "code",
   "execution_count": 10,
   "metadata": {},
   "outputs": [
    {
     "name": "stdout",
     "output_type": "stream",
     "text": [
      "Leaf Node\n",
      " Path = <Hex 0x20646f | Raw b' do'>, Data = b'verb'\n"
     ]
    }
   ],
   "source": [
    "print(trie._get_node(root))"
   ]
  },
  {
   "cell_type": "markdown",
   "metadata": {},
   "source": [
    "Ahora agregamos otro valor al trie que comparta prefijo con el valor anterior. "
   ]
  },
  {
   "cell_type": "code",
   "execution_count": 11,
   "metadata": {},
   "outputs": [],
   "source": [
    "trie.update(b'dog', b'animal')"
   ]
  },
  {
   "cell_type": "markdown",
   "metadata": {},
   "source": [
    "Veamos ahora que el nodo raiz es un nodo de tipo extensión cuyo \"path\" es el prefijo \"do\" compartido por los dos pares (key,value) agregados (do y dog). "
   ]
  },
  {
   "cell_type": "code",
   "execution_count": 12,
   "metadata": {},
   "outputs": [
    {
     "name": "stdout",
     "output_type": "stream",
     "text": [
      "Extension Node\n",
      " Path = <Hex 0x00646f | Raw b'\\x00do'>, Next_Reference = b'\\xdd\\x80\\x80\\x80\\x80\\x80\\x80\\xc87\\x86animal\\x80\\x80\\x80\\x80\\x80\\x80\\x80\\x80\\x80\\x84verb'\n"
     ]
    }
   ],
   "source": [
    "root = trie.root()\n",
    "root_hash = trie.root_hash()\n",
    "\n",
    "type(trie._get_node(root))\n",
    "print(trie._get_node(root))"
   ]
  },
  {
   "cell_type": "markdown",
   "metadata": {},
   "source": [
    "Veamos el nodo al que hace referencia el nodo raiz: "
   ]
  },
  {
   "cell_type": "code",
   "execution_count": 13,
   "metadata": {},
   "outputs": [
    {
     "name": "stdout",
     "output_type": "stream",
     "text": [
      "Branch Node \n",
      " Branches = [b'', b'', b'', b'', b'', b'', b'\\xc87\\x86animal', b'', b'', b'', b'', b'', b'', b'', b'', b''] \n",
      " Data = b'verb'\n"
     ]
    }
   ],
   "source": [
    "root_node = trie._get_node(root)\n",
    "node1 = trie._get_node(root_node.next_ref)\n",
    "print(node1)"
   ]
  },
  {
   "cell_type": "markdown",
   "metadata": {},
   "source": [
    "Notamos que tenemos 1 valor alojado en este nodo de tipo Branch que corresponde al par (do, verb). Ademas notamos que en la 6ta posicion, tenemos una referencia a otro nodo, el cual visitamos ahora. "
   ]
  },
  {
   "cell_type": "code",
   "execution_count": 14,
   "metadata": {},
   "outputs": [
    {
     "name": "stdout",
     "output_type": "stream",
     "text": [
      "Leaf Node\n",
      " Path = <Hex 0x37 | Raw b'7'>, Data = b'animal'\n"
     ]
    }
   ],
   "source": [
    "node2 = trie._get_node(node1.branches[6])\n",
    "print(node2)"
   ]
  },
  {
   "cell_type": "code",
   "execution_count": 26,
   "metadata": {},
   "outputs": [
    {
     "name": "stdout",
     "output_type": "stream",
     "text": [
      "646f\n",
      "646f67\n"
     ]
    }
   ],
   "source": [
    "print(b'do'.hex())\n",
    "print(b'dog'.hex())"
   ]
  },
  {
   "cell_type": "markdown",
   "metadata": {},
   "source": [
    "El nodo visitado es un nodo tipo hoja, que aloja el par (dog, animal). La ubicación 6 dentro de la lista branches y el path 7 en el nodo hoja, responde a la representación hexadecimal de la llave dog "
   ]
  },
  {
   "cell_type": "markdown",
   "metadata": {},
   "source": [
    "Añadimos a continuación un nuevo elemento cuya key no comparte prefijo con do o dog. "
   ]
  },
  {
   "cell_type": "code",
   "execution_count": 27,
   "metadata": {},
   "outputs": [],
   "source": [
    "trie.update(b'horse', b'other animal')"
   ]
  },
  {
   "cell_type": "code",
   "execution_count": 42,
   "metadata": {},
   "outputs": [
    {
     "name": "stdout",
     "output_type": "stream",
     "text": [
      "646f\n",
      "646f67\n",
      "686f727365\n"
     ]
    }
   ],
   "source": [
    "print(b'do'.hex())\n",
    "print(b'dog'.hex())\n",
    "print(b'horse'.hex())"
   ]
  },
  {
   "cell_type": "code",
   "execution_count": 28,
   "metadata": {},
   "outputs": [
    {
     "name": "stdout",
     "output_type": "stream",
     "text": [
      "Extension Node\n",
      " Path = <Hex 0x16 | Raw b'\\x16'>, Next_Reference = b\"\\xed\\xf3v0\\xaeh\\x8a\\r\\xd4\\x0f\\xba?\\xdd\\xd3\\x158 C'F\\x1b5\\x8d?\\x96\\xbe1V\\xbe\\x88TF\"\n"
     ]
    }
   ],
   "source": [
    "root = trie.root()\n",
    "root_hash = trie.root_hash()\n",
    "\n",
    "root_node = trie._get_node(root)\n",
    "\n",
    "print(trie._get_node(root))"
   ]
  },
  {
   "cell_type": "markdown",
   "metadata": {},
   "source": [
    "Partimos con el prefijo compartido que es el \"6\", ademas como es de largo impar tiene un padding de un \"1\""
   ]
  },
  {
   "cell_type": "code",
   "execution_count": 43,
   "metadata": {},
   "outputs": [
    {
     "name": "stdout",
     "output_type": "stream",
     "text": [
      "Branch Node \n",
      " Branches = [b'', b'', b'', b'', b'\\x16hC\\x93\\xceC\\x05\\\\\\x89\\x88k7Q\\x88:\\x07\\xbf\\xf0\\xe9\\x9f\\xcb\\xd3\\xc4>\\xd1\\xf0p\\xdd\\xdf\\xbf\\xb9\\x83', b'', b'', b'', b'\\xd3\\x85 orse\\x8cother animal', b'', b'', b'', b'', b'', b'', b''] \n",
      " Data = b''\n"
     ]
    }
   ],
   "source": [
    "node1 = trie._get_node(root_node.next_ref)\n",
    "print(node1)"
   ]
  },
  {
   "cell_type": "markdown",
   "metadata": {},
   "source": [
    "Tenemos dos referencias en los branches, una en la posición 4 y otra en la posición 8, valor esperado según la representación hexadecimal de las keys ingresadas. "
   ]
  },
  {
   "cell_type": "code",
   "execution_count": 45,
   "metadata": {},
   "outputs": [
    {
     "name": "stdout",
     "output_type": "stream",
     "text": [
      "Extension Node\n",
      " Path = <Hex 0x006f | Raw b'\\x00o'>, Next_Reference = b'\\xdd\\x80\\x80\\x80\\x80\\x80\\x80\\xc87\\x86animal\\x80\\x80\\x80\\x80\\x80\\x80\\x80\\x80\\x80\\x84verb'\n"
     ]
    }
   ],
   "source": [
    "node3 = trie._get_node(node1.branches[4])\n",
    "print(node3)"
   ]
  },
  {
   "cell_type": "code",
   "execution_count": 52,
   "metadata": {},
   "outputs": [
    {
     "name": "stdout",
     "output_type": "stream",
     "text": [
      "<class 'node.Node.Leaf'>\n",
      "b'other animal'\n"
     ]
    }
   ],
   "source": [
    "node4 = trie._get_node(node1.branches[8])\n",
    "print(type(node4))\n",
    "print(node4.data)"
   ]
  },
  {
   "cell_type": "markdown",
   "metadata": {},
   "source": [
    "Avanzamos con la referencia que aparece en el nodo de extensión:"
   ]
  },
  {
   "cell_type": "code",
   "execution_count": 56,
   "metadata": {},
   "outputs": [
    {
     "name": "stdout",
     "output_type": "stream",
     "text": [
      "646f\n",
      "646f67\n"
     ]
    }
   ],
   "source": [
    "print(b'do'.hex())\n",
    "print(b'dog'.hex())"
   ]
  },
  {
   "cell_type": "code",
   "execution_count": 53,
   "metadata": {},
   "outputs": [],
   "source": [
    "node5 = trie._get_node(node3.next_ref)"
   ]
  },
  {
   "cell_type": "code",
   "execution_count": 55,
   "metadata": {},
   "outputs": [
    {
     "name": "stdout",
     "output_type": "stream",
     "text": [
      "Branch Node \n",
      " Branches = [b'', b'', b'', b'', b'', b'', b'\\xc87\\x86animal', b'', b'', b'', b'', b'', b'', b'', b'', b''] \n",
      " Data = b'verb'\n"
     ]
    }
   ],
   "source": [
    "print(node5)"
   ]
  },
  {
   "cell_type": "markdown",
   "metadata": {},
   "source": [
    "Encontramos en este nodo de tipo Branch el valor \"verb\" que refiere al par (do, verb). ingresamos al nodo que aparece en la 6ta posición."
   ]
  },
  {
   "cell_type": "code",
   "execution_count": 57,
   "metadata": {},
   "outputs": [],
   "source": [
    "node6 = trie._get_node(node5.branches[6])"
   ]
  },
  {
   "cell_type": "code",
   "execution_count": 59,
   "metadata": {},
   "outputs": [
    {
     "name": "stdout",
     "output_type": "stream",
     "text": [
      "Leaf Node\n",
      " Path = <Hex 0x37 | Raw b'7'>, Data = b'animal'\n"
     ]
    }
   ],
   "source": [
    "print(node6)"
   ]
  },
  {
   "cell_type": "markdown",
   "metadata": {},
   "source": [
    "Y encontramos el par (dog, animal). "
   ]
  }
 ],
 "metadata": {
  "kernelspec": {
   "display_name": "Python 3",
   "language": "python",
   "name": "python3"
  },
  "language_info": {
   "codemirror_mode": {
    "name": "ipython",
    "version": 3
   },
   "file_extension": ".py",
   "mimetype": "text/x-python",
   "name": "python",
   "nbconvert_exporter": "python",
   "pygments_lexer": "ipython3",
   "version": "3.6.9"
  }
 },
 "nbformat": 4,
 "nbformat_minor": 2
}
